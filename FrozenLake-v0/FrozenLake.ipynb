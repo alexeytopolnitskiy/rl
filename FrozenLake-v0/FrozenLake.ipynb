{
  "nbformat": 4,
  "nbformat_minor": 0,
  "metadata": {
    "colab": {
      "name": "FrozenLake.ipynb",
      "provenance": [],
      "collapsed_sections": []
    },
    "kernelspec": {
      "name": "python3",
      "display_name": "Python 3"
    }
  },
  "cells": [
    {
      "cell_type": "code",
      "metadata": {
        "id": "jomwYuN2XHKa"
      },
      "source": [
        "# !pip install -U catalyst-rl wandb "
      ],
      "execution_count": 2,
      "outputs": []
    },
    {
      "cell_type": "markdown",
      "metadata": {
        "id": "d69btgIPY1qS"
      },
      "source": [
        "### Import dependencies"
      ]
    },
    {
      "cell_type": "code",
      "metadata": {
        "id": "P1wnlk-UXRuC"
      },
      "source": [
        "import numpy as np\n",
        "import catalyst_rl\n",
        "from catalyst_rl.rl.environment import gym\n",
        "import random\n",
        "from tqdm import tqdm"
      ],
      "execution_count": 3,
      "outputs": []
    },
    {
      "cell_type": "markdown",
      "metadata": {
        "id": "GMa5zmMlY5KJ"
      },
      "source": [
        "### Create environment"
      ]
    },
    {
      "cell_type": "code",
      "metadata": {
        "id": "uKO52PBSXRww"
      },
      "source": [
        "env = gym.GymEnvWrapper(\"FrozenLake-v0\").env"
      ],
      "execution_count": 7,
      "outputs": []
    },
    {
      "cell_type": "code",
      "metadata": {
        "id": "UywR-ZknZSHl",
        "outputId": "bab5cbd0-d791-45ee-b33a-db7cf7cb4dec",
        "colab": {
          "base_uri": "https://localhost:8080/",
          "height": 102
        }
      },
      "source": [
        "env.render()"
      ],
      "execution_count": 10,
      "outputs": [
        {
          "output_type": "stream",
          "text": [
            "\n",
            "\u001b[41mS\u001b[0mFFF\n",
            "FHFH\n",
            "FFFH\n",
            "HFFG\n"
          ],
          "name": "stdout"
        }
      ]
    },
    {
      "cell_type": "code",
      "metadata": {
        "id": "Y4c5lVLbY78s",
        "outputId": "5c25166c-956f-4fbb-d9f0-1a5dd147fd73",
        "colab": {
          "base_uri": "https://localhost:8080/",
          "height": 34
        }
      },
      "source": [
        "num_actions = env.action_space.n\n",
        "print(\"Number of actions :\", num_actions)"
      ],
      "execution_count": 8,
      "outputs": [
        {
          "output_type": "stream",
          "text": [
            "Number of actions : 4\n"
          ],
          "name": "stdout"
        }
      ]
    },
    {
      "cell_type": "code",
      "metadata": {
        "id": "DMKMjCsPY7_e",
        "outputId": "984b0b96-52ec-4b6e-9712-28b74ce207fa",
        "colab": {
          "base_uri": "https://localhost:8080/",
          "height": 34
        }
      },
      "source": [
        "num_observations = env.observation_space.n\n",
        "print(\"Number of observations :\", num_observations)"
      ],
      "execution_count": 9,
      "outputs": [
        {
          "output_type": "stream",
          "text": [
            "Number of observations : 16\n"
          ],
          "name": "stdout"
        }
      ]
    },
    {
      "cell_type": "code",
      "metadata": {
        "id": "GC85bzdAY8CO",
        "outputId": "f09bb833-f4bd-4eea-830e-43f02c9f2997",
        "colab": {
          "base_uri": "https://localhost:8080/",
          "height": 289
        }
      },
      "source": [
        "Q_table = np.zeros((num_observations, num_actions))\n",
        "print(Q_table)"
      ],
      "execution_count": 12,
      "outputs": [
        {
          "output_type": "stream",
          "text": [
            "[[0. 0. 0. 0.]\n",
            " [0. 0. 0. 0.]\n",
            " [0. 0. 0. 0.]\n",
            " [0. 0. 0. 0.]\n",
            " [0. 0. 0. 0.]\n",
            " [0. 0. 0. 0.]\n",
            " [0. 0. 0. 0.]\n",
            " [0. 0. 0. 0.]\n",
            " [0. 0. 0. 0.]\n",
            " [0. 0. 0. 0.]\n",
            " [0. 0. 0. 0.]\n",
            " [0. 0. 0. 0.]\n",
            " [0. 0. 0. 0.]\n",
            " [0. 0. 0. 0.]\n",
            " [0. 0. 0. 0.]\n",
            " [0. 0. 0. 0.]]\n"
          ],
          "name": "stdout"
        }
      ]
    },
    {
      "cell_type": "markdown",
      "metadata": {
        "id": "-29NtbelZlDf"
      },
      "source": [
        "### Set parameters"
      ]
    },
    {
      "cell_type": "code",
      "metadata": {
        "id": "8tPpprUPaVvt"
      },
      "source": [
        "num_episodes = 10000\n",
        "epsilon = 1\n",
        "lr = 0.9\n",
        "gamma = 0.85\n",
        "max_steps = 100"
      ],
      "execution_count": 75,
      "outputs": []
    },
    {
      "cell_type": "code",
      "metadata": {
        "id": "eSzKX4ihdRVB"
      },
      "source": [
        "min_epsilon = 0.01\n",
        "max_epsilon = 1\n",
        "decay_rate = 0.005"
      ],
      "execution_count": 76,
      "outputs": []
    },
    {
      "cell_type": "markdown",
      "metadata": {
        "id": "M9ttfzm0aXWF"
      },
      "source": [
        "### Learning process"
      ]
    },
    {
      "cell_type": "code",
      "metadata": {
        "id": "3DdCaI34XR2i",
        "outputId": "7a18682d-a9e6-4bf4-afbe-26891c2a6111",
        "colab": {
          "base_uri": "https://localhost:8080/",
          "height": 34
        }
      },
      "source": [
        "for episode in tqdm(range(num_episodes)):\n",
        "\n",
        "  state = env.reset()\n",
        "  done = False\n",
        "\n",
        "  for step in range(max_steps):\n",
        "\n",
        "    epsilon_tradeoff = random.uniform(0, 1)\n",
        "    if epsilon_tradeoff > epsilon: # explotation\n",
        "      action = np.argmax(Q_table[state, :])\n",
        "    else: # exploration\n",
        "      action = env.action_space.sample()\n",
        "\n",
        "    new_state, reward, done, info = env.step(action)\n",
        "\n",
        "    Q_table[state, action] = Q_table[state, action] + lr * (reward + gamma * np.max(Q_table[new_state, :]) - Q_table[state, action])\n",
        "\n",
        "    state = new_state\n",
        "\n",
        "    if done:\n",
        "      break\n",
        "\n",
        "  epsilon = min_epsilon + (max_epsilon - min_epsilon) * np.exp(-decay_rate * episode)"
      ],
      "execution_count": 77,
      "outputs": [
        {
          "output_type": "stream",
          "text": [
            "100%|██████████| 10000/10000 [00:11<00:00, 888.81it/s]\n"
          ],
          "name": "stderr"
        }
      ]
    },
    {
      "cell_type": "code",
      "metadata": {
        "id": "lYC6z58FdfZJ",
        "outputId": "1eb0d396-e850-4341-c3eb-a62509c76b90",
        "colab": {
          "base_uri": "https://localhost:8080/",
          "height": 289
        }
      },
      "source": [
        "Q_table"
      ],
      "execution_count": 52,
      "outputs": [
        {
          "output_type": "execute_result",
          "data": {
            "text/plain": [
              "array([[2.53828649e-01, 1.39817414e-01, 1.80486150e-02, 1.12989107e-01],\n",
              "       [2.39467631e-03, 1.94417179e-01, 2.45314479e-03, 7.90615945e-02],\n",
              "       [5.22720395e-03, 5.05298376e-03, 2.72534444e-02, 1.21464822e-01],\n",
              "       [2.06817812e-03, 1.83216947e-03, 4.46669255e-04, 3.43730190e-02],\n",
              "       [4.43692717e-01, 1.08002209e-02, 7.44432318e-02, 8.30921324e-02],\n",
              "       [0.00000000e+00, 0.00000000e+00, 0.00000000e+00, 0.00000000e+00],\n",
              "       [7.22133646e-02, 6.22283586e-08, 1.18288341e-05, 2.16353003e-06],\n",
              "       [0.00000000e+00, 0.00000000e+00, 0.00000000e+00, 0.00000000e+00],\n",
              "       [5.10443544e-02, 7.90887816e-03, 6.28819395e-04, 5.16120107e-01],\n",
              "       [4.38395934e-03, 7.62438795e-01, 2.84514977e-03, 1.80739219e-02],\n",
              "       [8.96259757e-01, 8.14725802e-04, 1.51988677e-03, 3.11063513e-02],\n",
              "       [0.00000000e+00, 0.00000000e+00, 0.00000000e+00, 0.00000000e+00],\n",
              "       [0.00000000e+00, 0.00000000e+00, 0.00000000e+00, 0.00000000e+00],\n",
              "       [1.77472720e-02, 1.57007369e-01, 9.30792001e-01, 9.12006577e-02],\n",
              "       [2.93664186e-01, 9.99614418e-01, 1.74317397e-01, 1.21957381e-01],\n",
              "       [0.00000000e+00, 0.00000000e+00, 0.00000000e+00, 0.00000000e+00]])"
            ]
          },
          "metadata": {
            "tags": []
          },
          "execution_count": 52
        }
      ]
    },
    {
      "cell_type": "markdown",
      "metadata": {
        "id": "IjXKyN5kdBpy"
      },
      "source": [
        "### Demo "
      ]
    },
    {
      "cell_type": "code",
      "metadata": {
        "id": "NEPZ4LQ4exge",
        "outputId": "f9d61caa-2f15-4e0e-b9cc-3a758738e9bc",
        "colab": {
          "base_uri": "https://localhost:8080/",
          "height": 527
        }
      },
      "source": [
        "env.reset()\n",
        "\n",
        "for episode in range(5):\n",
        "\n",
        "  state = env.reset()\n",
        "  done = False\n",
        "  total_reward = 0\n",
        "\n",
        "  for step in range(max_steps):\n",
        "\n",
        "    action = np.argmax(Q_table[state, :])\n",
        "    new_state, reward, done, info = env.step(action)\n",
        "    total_reward += reward\n",
        "    new_state = state\n",
        "\n",
        "    if done:\n",
        "      env.render()\n",
        "      print(f\"Total reward is {total_reward}\")\n",
        "      break\n",
        "\n",
        "env.close()"
      ],
      "execution_count": 78,
      "outputs": [
        {
          "output_type": "stream",
          "text": [
            "  (Down)\n",
            "SFFF\n",
            "FHFH\n",
            "FFFH\n",
            "HFF\u001b[41mG\u001b[0m\n",
            "Total reward is 1.0\n",
            "  (Down)\n",
            "SFFF\n",
            "F\u001b[41mH\u001b[0mFH\n",
            "FFFH\n",
            "HFFG\n",
            "Total reward is 0.0\n",
            "  (Down)\n",
            "SFFF\n",
            "FHFH\n",
            "FFFH\n",
            "\u001b[41mH\u001b[0mFFG\n",
            "Total reward is 0.0\n",
            "  (Down)\n",
            "SFFF\n",
            "F\u001b[41mH\u001b[0mFH\n",
            "FFFH\n",
            "HFFG\n",
            "Total reward is 0.0\n",
            "  (Down)\n",
            "SFFF\n",
            "F\u001b[41mH\u001b[0mFH\n",
            "FFFH\n",
            "HFFG\n",
            "Total reward is 0.0\n"
          ],
          "name": "stdout"
        }
      ]
    },
    {
      "cell_type": "code",
      "metadata": {
        "id": "-m9LuvYddjt4"
      },
      "source": [
        ""
      ],
      "execution_count": null,
      "outputs": []
    }
  ]
}