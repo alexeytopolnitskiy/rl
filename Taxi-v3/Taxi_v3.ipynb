{
  "nbformat": 4,
  "nbformat_minor": 0,
  "metadata": {
    "colab": {
      "name": "Taxi-v3.ipynb",
      "provenance": [],
      "collapsed_sections": []
    },
    "kernelspec": {
      "name": "python3",
      "display_name": "Python 3"
    }
  },
  "cells": [
    {
      "cell_type": "code",
      "metadata": {
        "id": "uFbFVT7MK0VP"
      },
      "source": [
        "### Uncomment lines below if you in colab\n",
        "\n",
        "# !pip install -U catalyst-rl\n",
        "# !pip install wandb"
      ],
      "execution_count": 2,
      "outputs": []
    },
    {
      "cell_type": "markdown",
      "metadata": {
        "id": "dtsmD7lEQ0Gb"
      },
      "source": [
        "## Setup environment"
      ]
    },
    {
      "cell_type": "code",
      "metadata": {
        "id": "HDysP8QtK0w8"
      },
      "source": [
        "import numpy as np\n",
        "import random\n",
        "import catalyst_rl\n",
        "from catalyst_rl.rl.environment import gym\n",
        "from tqdm import tqdm"
      ],
      "execution_count": 3,
      "outputs": []
    },
    {
      "cell_type": "markdown",
      "metadata": {
        "id": "43-OGeUUQ8Kb"
      },
      "source": [
        "## Create environment"
      ]
    },
    {
      "cell_type": "code",
      "metadata": {
        "id": "xpFZBAIqK0zl"
      },
      "source": [
        "# Create an environment for our game\n",
        "env = gym.GymEnvWrapper(\"Taxi-v3\").env"
      ],
      "execution_count": 4,
      "outputs": []
    },
    {
      "cell_type": "code",
      "metadata": {
        "id": "DB51hvqHK02C",
        "outputId": "54289f32-4921-4355-edd1-3566ad4fec6b",
        "colab": {
          "base_uri": "https://localhost:8080/",
          "height": 153
        }
      },
      "source": [
        "# Take a look at the environment\n",
        "env.render()"
      ],
      "execution_count": 5,
      "outputs": [
        {
          "output_type": "stream",
          "text": [
            "+---------+\n",
            "|\u001b[35mR\u001b[0m: | : :\u001b[43mG\u001b[0m|\n",
            "| : | : : |\n",
            "| : : : : |\n",
            "| | : | : |\n",
            "|Y| : |\u001b[34;1mB\u001b[0m: |\n",
            "+---------+\n",
            "\n"
          ],
          "name": "stdout"
        }
      ]
    },
    {
      "cell_type": "markdown",
      "metadata": {
        "id": "gNIMU3VgRL1B"
      },
      "source": [
        "## Create Q-table"
      ]
    },
    {
      "cell_type": "code",
      "metadata": {
        "id": "UEC-vzF6K07e",
        "outputId": "baa655fc-4491-4adc-b10b-b6623cb05c1d",
        "colab": {
          "base_uri": "https://localhost:8080/",
          "height": 34
        }
      },
      "source": [
        "# Number of actions\n",
        "num_of_actions = env.env.action_space.n\n",
        "print(\"Number of actions is\", num_of_actions)"
      ],
      "execution_count": 6,
      "outputs": [
        {
          "output_type": "stream",
          "text": [
            "Number of actions is 6\n"
          ],
          "name": "stdout"
        }
      ]
    },
    {
      "cell_type": "code",
      "metadata": {
        "id": "9Hh93xM3SJd7",
        "outputId": "51ede7dc-9383-4569-90f3-4be51b8c81bf",
        "colab": {
          "base_uri": "https://localhost:8080/",
          "height": 34
        }
      },
      "source": [
        "# Number of possible observations\n",
        "num_of_observations = env.env.observation_space.n\n",
        "print(\"Number of observations is\", num_of_observations)"
      ],
      "execution_count": 7,
      "outputs": [
        {
          "output_type": "stream",
          "text": [
            "Number of observations is 500\n"
          ],
          "name": "stdout"
        }
      ]
    },
    {
      "cell_type": "code",
      "metadata": {
        "id": "YI0rdqtGSKLs",
        "outputId": "1dbaad33-414d-4590-c0fb-f2d0816a377c",
        "colab": {
          "base_uri": "https://localhost:8080/",
          "height": 136
        }
      },
      "source": [
        "# Create a Q table\n",
        "Q_table = np.zeros((num_of_observations, num_of_actions))\n",
        "Q_table"
      ],
      "execution_count": 8,
      "outputs": [
        {
          "output_type": "execute_result",
          "data": {
            "text/plain": [
              "array([[0., 0., 0., 0., 0., 0.],\n",
              "       [0., 0., 0., 0., 0., 0.],\n",
              "       [0., 0., 0., 0., 0., 0.],\n",
              "       ...,\n",
              "       [0., 0., 0., 0., 0., 0.],\n",
              "       [0., 0., 0., 0., 0., 0.],\n",
              "       [0., 0., 0., 0., 0., 0.]])"
            ]
          },
          "metadata": {
            "tags": []
          },
          "execution_count": 8
        }
      ]
    },
    {
      "cell_type": "markdown",
      "metadata": {
        "id": "ajXdQGozSgLt"
      },
      "source": [
        "## Create hyperparameters"
      ]
    },
    {
      "cell_type": "code",
      "metadata": {
        "id": "7oxLlnMmSKOP"
      },
      "source": [
        "# Number of episodes\n",
        "num_of_episodes = 50000\n",
        "# Number of test episodes \n",
        "num_of_test_episodes = 100\n",
        "# Max steps per episode\n",
        "max_episode_steps = 100"
      ],
      "execution_count": 9,
      "outputs": []
    },
    {
      "cell_type": "code",
      "metadata": {
        "id": "impGwhtDhzK9"
      },
      "source": [
        "# Learning rate\n",
        "lr = 0.7\n",
        "# Discounting rate\n",
        "gamma = 0.7"
      ],
      "execution_count": 12,
      "outputs": []
    },
    {
      "cell_type": "code",
      "metadata": {
        "id": "awG-T4LJSvqs"
      },
      "source": [
        "# Exploration parameters\n",
        "# Exploration rate (also known as epsilon rate)\n",
        "epsilon = 1 # can be from 0 to 1\n",
        "max_epsilon = 1\n",
        "min_epsilon = 0.01\n",
        "decay_rate = 0.01"
      ],
      "execution_count": 11,
      "outputs": []
    },
    {
      "cell_type": "markdown",
      "metadata": {
        "id": "mmyj3i6mTvxt"
      },
      "source": [
        "## Q-Learning algorithm"
      ]
    },
    {
      "cell_type": "markdown",
      "metadata": {
        "id": "3yJ7dQczUAzq"
      },
      "source": [
        "Implement the Q-learning algorithm"
      ]
    },
    {
      "cell_type": "code",
      "metadata": {
        "id": "wJmU83GLSvt-",
        "outputId": "ddd629dc-c770-4241-8a0a-2a078fc2548b",
        "colab": {
          "base_uri": "https://localhost:8080/",
          "height": 34
        }
      },
      "source": [
        "# Life time of the learning algorithm\n",
        "for episode in tqdm(range(num_of_episodes)):\n",
        "\n",
        "  # Reset environment\n",
        "  state = env.reset() # Start from the beginning\n",
        "  done = False # True if out agent achieved success or failed\n",
        "\n",
        "  for step in range(max_episode_steps):\n",
        "\n",
        "    # Choose an action\n",
        "    ## Initialize a random number \n",
        "    epsilon_tradeoff = random.uniform(0, 1) # This value will help agent to chooce the mode (exploration or explotation)\n",
        "\n",
        "    if epsilon_tradeoff > epsilon: # explotation mode, choose the best action at current state (biggest Q value for that state)\n",
        "      action = np.argmax(Q_table[state, :]) # The maximum Q value for current state\n",
        "\n",
        "    else: # exploration mode, explore the environment\n",
        "      action = env.action_space.sample() # randomly choose an action from the action space\n",
        "\n",
        "    # Make the action\n",
        "    new_state, reward, done, info = env.step(action) # receive a new_state and reward from making an action\n",
        "\n",
        "    # Update a Q value in Q table using Bellman equation\n",
        "    Q_table[state, action] = Q_table[state, action] + lr * (reward + gamma * np.max(Q_table[new_state, :]) - Q_table[state, action])\n",
        "\n",
        "    # Update the state of the environment\n",
        "    state = new_state\n",
        "\n",
        "    # If the desired process is done then finish current episode and start the new one\n",
        "    if done:\n",
        "      break\n",
        "\n",
        "  # After an episode we did some exploration\n",
        "  # If epsilon is 1 then we do exploration all the time and do not do any explotation\n",
        "  # As we need to explotate obtained knowledge about the environment to obtain better Q table\n",
        "  # We reduce epsilon after each episode\n",
        "  epsilon = min_epsilon + (max_epsilon - min_epsilon) * np.exp(-decay_rate * episode)"
      ],
      "execution_count": 13,
      "outputs": [
        {
          "output_type": "stream",
          "text": [
            "100%|██████████| 50000/50000 [00:26<00:00, 1880.29it/s]\n"
          ],
          "name": "stderr"
        }
      ]
    },
    {
      "cell_type": "markdown",
      "metadata": {
        "id": "46SQRskcZawK"
      },
      "source": [
        "## Evaluate our algorithm"
      ]
    },
    {
      "cell_type": "code",
      "metadata": {
        "id": "0pL2kBbljUDn",
        "outputId": "f6877d26-551d-4a5e-ef23-3ebe49d0ec48",
        "colab": {
          "base_uri": "https://localhost:8080/",
          "height": 34
        }
      },
      "source": [
        "# Reset the invironment to start\n",
        "env.reset()\n",
        "# Records rewards that our model achieve\n",
        "rewards = []\n",
        "\n",
        "for episode in range(num_of_test_episodes):\n",
        "\n",
        "  done = False\n",
        "  state = env.reset()\n",
        "  rewards_for_episode = 0\n",
        "\n",
        "  for step in range(max_episode_steps):\n",
        "    # To see game is going on uncomment the line below\n",
        "    # env.render()\n",
        "    # Choose the best action for current state\n",
        "    action = np.argmax(Q_table[state, :])\n",
        "    # Make the action\n",
        "    new_state, reward, done, info = env.step(action)\n",
        "    # Remember the given reward foe made action\n",
        "    rewards_for_episode += reward\n",
        "    # Stop the episode if agent succeed or failed\n",
        "    if done:\n",
        "      rewards.append(rewards_for_episode)\n",
        "      break\n",
        "    # Update the state\n",
        "    state = new_state\n",
        "# Close the environment as the game has finished\n",
        "env.close()\n",
        "# Print average reward the agent has received for each episode\n",
        "print(\"Average reward is\", sum(rewards) / num_of_test_episodes)"
      ],
      "execution_count": 18,
      "outputs": [
        {
          "output_type": "stream",
          "text": [
            "Average reward is 7.91\n"
          ],
          "name": "stdout"
        }
      ]
    },
    {
      "cell_type": "code",
      "metadata": {
        "id": "ll077UKISKV8"
      },
      "source": [
        ""
      ],
      "execution_count": null,
      "outputs": []
    }
  ]
}